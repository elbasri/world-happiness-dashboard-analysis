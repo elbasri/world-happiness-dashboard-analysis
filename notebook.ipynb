{
 "cells": [
  {
   "cell_type": "markdown",
   "id": "e64537f2",
   "metadata": {},
   "source": [
    "\n",
    "# World Happiness Dashboard Analysis\n",
    "\n",
    "This notebook replicates the functionality of the Dash + Plotly app using Matplotlib and Pandas for visualizations. It provides the following insights from the World Happiness Report:\n",
    "\n",
    "1. Happiness scores by country.\n",
    "2. GDP vs Happiness Score.\n",
    "3. Contribution of factors to happiness.\n",
    "4. Distribution of happiness scores.\n",
    "5. Evolution of happiness scores over time.\n",
    "6. Freedom vs Happiness Score.\n",
    "7. Happiness score distribution by region.\n",
    "8. Top 10 happiest countries.\n",
    "9. Correlation heatmap of happiness factors.\n",
    "\n",
    "---\n"
   ]
  },
  {
   "cell_type": "code",
   "execution_count": 2,
   "id": "5e47713e",
   "metadata": {},
   "outputs": [],
   "source": [
    "\n",
    "import pandas as pd\n",
    "import matplotlib.pyplot as plt\n",
    "import seaborn as sns\n",
    "\n",
    "# Define the path to the data directory\n",
    "DATA_DIR = 'data'\n",
    "\n",
    "# Function to load and standardize data\n",
    "def load_and_standardize_data(year):\n",
    "    file_path = f\"{DATA_DIR}/{year}.csv\"\n",
    "    data = pd.read_csv(file_path)\n",
    "    if year in [2015, 2016]:\n",
    "        data = data.rename(columns={\n",
    "            'Country': 'Pays',\n",
    "            'Happiness Score': 'Score',\n",
    "            'Happiness Rank': 'Classement',\n",
    "            'Economy (GDP per Capita)': 'PIB',\n",
    "            'Health (Life Expectancy)': 'Espérance de vie',\n",
    "            'Trust (Government Corruption)': 'Corruption',\n",
    "            'Freedom': 'Liberté',\n",
    "            'Family': 'Soutien Social',\n",
    "            'Generosity': 'Générosité',\n",
    "        })\n",
    "    elif year == 2017:\n",
    "        data = data.rename(columns={\n",
    "            'Country': 'Pays',\n",
    "            'Happiness.Score': 'Score',\n",
    "            'Happiness.Rank': 'Classement',\n",
    "            'Economy..GDP.per.Capita.': 'PIB',\n",
    "            'Health..Life.Expectancy.': 'Espérance de vie',\n",
    "            'Trust..Government.Corruption.': 'Corruption',\n",
    "            'Family': 'Soutien Social',\n",
    "            'Freedom': 'Liberté',\n",
    "            'Generosity': 'Générosité',\n",
    "        })\n",
    "    elif year in [2018, 2019]:\n",
    "        data = data.rename(columns={\n",
    "            'Country or region': 'Pays',\n",
    "            'Score': 'Score',\n",
    "            'Overall rank': 'Classement',\n",
    "            'GDP per capita': 'PIB',\n",
    "            'Healthy life expectancy': 'Espérance de vie',\n",
    "            'Perceptions of corruption': 'Corruption',\n",
    "            'Social support': 'Soutien Social',\n",
    "            'Freedom to make life choices': 'Liberté',\n",
    "            'Generosity': 'Générosité',\n",
    "        })\n",
    "    return data\n"
   ]
  },
  {
   "cell_type": "code",
   "execution_count": 3,
   "id": "5d9827d7",
   "metadata": {},
   "outputs": [
    {
     "ename": "FileNotFoundError",
     "evalue": "[Errno 2] No such file or directory: 'data/newData/2015.csv'",
     "output_type": "error",
     "traceback": [
      "\u001b[0;31m---------------------------------------------------------------------------\u001b[0m",
      "\u001b[0;31mFileNotFoundError\u001b[0m                         Traceback (most recent call last)",
      "\u001b[1;32m/home/abdennacer/Documents/GitHub/world-happiness-dashboard-analysis/notebook.ipynb Cell 3\u001b[0m line \u001b[0;36m3\n\u001b[1;32m      <a href='vscode-notebook-cell:/home/abdennacer/Documents/GitHub/world-happiness-dashboard-analysis/notebook.ipynb#W2sZmlsZQ%3D%3D?line=0'>1</a>\u001b[0m \u001b[39m# Load all data for years 2015-2019\u001b[39;00m\n\u001b[1;32m      <a href='vscode-notebook-cell:/home/abdennacer/Documents/GitHub/world-happiness-dashboard-analysis/notebook.ipynb#W2sZmlsZQ%3D%3D?line=1'>2</a>\u001b[0m available_years \u001b[39m=\u001b[39m [\u001b[39m2015\u001b[39m, \u001b[39m2016\u001b[39m, \u001b[39m2017\u001b[39m, \u001b[39m2018\u001b[39m, \u001b[39m2019\u001b[39m]\n\u001b[0;32m----> <a href='vscode-notebook-cell:/home/abdennacer/Documents/GitHub/world-happiness-dashboard-analysis/notebook.ipynb#W2sZmlsZQ%3D%3D?line=2'>3</a>\u001b[0m data_by_year \u001b[39m=\u001b[39m {year: load_and_standardize_data(year) \u001b[39mfor\u001b[39;00m year \u001b[39min\u001b[39;00m available_years}\n",
      "\u001b[1;32m/home/abdennacer/Documents/GitHub/world-happiness-dashboard-analysis/notebook.ipynb Cell 3\u001b[0m line \u001b[0;36m3\n\u001b[1;32m      <a href='vscode-notebook-cell:/home/abdennacer/Documents/GitHub/world-happiness-dashboard-analysis/notebook.ipynb#W2sZmlsZQ%3D%3D?line=0'>1</a>\u001b[0m \u001b[39m# Load all data for years 2015-2019\u001b[39;00m\n\u001b[1;32m      <a href='vscode-notebook-cell:/home/abdennacer/Documents/GitHub/world-happiness-dashboard-analysis/notebook.ipynb#W2sZmlsZQ%3D%3D?line=1'>2</a>\u001b[0m available_years \u001b[39m=\u001b[39m [\u001b[39m2015\u001b[39m, \u001b[39m2016\u001b[39m, \u001b[39m2017\u001b[39m, \u001b[39m2018\u001b[39m, \u001b[39m2019\u001b[39m]\n\u001b[0;32m----> <a href='vscode-notebook-cell:/home/abdennacer/Documents/GitHub/world-happiness-dashboard-analysis/notebook.ipynb#W2sZmlsZQ%3D%3D?line=2'>3</a>\u001b[0m data_by_year \u001b[39m=\u001b[39m {year: load_and_standardize_data(year) \u001b[39mfor\u001b[39;00m year \u001b[39min\u001b[39;00m available_years}\n",
      "\u001b[1;32m/home/abdennacer/Documents/GitHub/world-happiness-dashboard-analysis/notebook.ipynb Cell 3\u001b[0m line \u001b[0;36m1\n\u001b[1;32m      <a href='vscode-notebook-cell:/home/abdennacer/Documents/GitHub/world-happiness-dashboard-analysis/notebook.ipynb#W2sZmlsZQ%3D%3D?line=8'>9</a>\u001b[0m \u001b[39mdef\u001b[39;00m \u001b[39mload_and_standardize_data\u001b[39m(year):\n\u001b[1;32m     <a href='vscode-notebook-cell:/home/abdennacer/Documents/GitHub/world-happiness-dashboard-analysis/notebook.ipynb#W2sZmlsZQ%3D%3D?line=9'>10</a>\u001b[0m     file_path \u001b[39m=\u001b[39m \u001b[39mf\u001b[39m\u001b[39m\"\u001b[39m\u001b[39m{\u001b[39;00mDATA_DIR\u001b[39m}\u001b[39;00m\u001b[39m/\u001b[39m\u001b[39m{\u001b[39;00myear\u001b[39m}\u001b[39;00m\u001b[39m.csv\u001b[39m\u001b[39m\"\u001b[39m\n\u001b[0;32m---> <a href='vscode-notebook-cell:/home/abdennacer/Documents/GitHub/world-happiness-dashboard-analysis/notebook.ipynb#W2sZmlsZQ%3D%3D?line=10'>11</a>\u001b[0m     data \u001b[39m=\u001b[39m pd\u001b[39m.\u001b[39;49mread_csv(file_path)\n\u001b[1;32m     <a href='vscode-notebook-cell:/home/abdennacer/Documents/GitHub/world-happiness-dashboard-analysis/notebook.ipynb#W2sZmlsZQ%3D%3D?line=11'>12</a>\u001b[0m     \u001b[39mif\u001b[39;00m year \u001b[39min\u001b[39;00m [\u001b[39m2015\u001b[39m, \u001b[39m2016\u001b[39m]:\n\u001b[1;32m     <a href='vscode-notebook-cell:/home/abdennacer/Documents/GitHub/world-happiness-dashboard-analysis/notebook.ipynb#W2sZmlsZQ%3D%3D?line=12'>13</a>\u001b[0m         data \u001b[39m=\u001b[39m data\u001b[39m.\u001b[39mrename(columns\u001b[39m=\u001b[39m{\n\u001b[1;32m     <a href='vscode-notebook-cell:/home/abdennacer/Documents/GitHub/world-happiness-dashboard-analysis/notebook.ipynb#W2sZmlsZQ%3D%3D?line=13'>14</a>\u001b[0m             \u001b[39m'\u001b[39m\u001b[39mCountry\u001b[39m\u001b[39m'\u001b[39m: \u001b[39m'\u001b[39m\u001b[39mPays\u001b[39m\u001b[39m'\u001b[39m,\n\u001b[1;32m     <a href='vscode-notebook-cell:/home/abdennacer/Documents/GitHub/world-happiness-dashboard-analysis/notebook.ipynb#W2sZmlsZQ%3D%3D?line=14'>15</a>\u001b[0m             \u001b[39m'\u001b[39m\u001b[39mHappiness Score\u001b[39m\u001b[39m'\u001b[39m: \u001b[39m'\u001b[39m\u001b[39mScore\u001b[39m\u001b[39m'\u001b[39m,\n\u001b[0;32m   (...)\u001b[0m\n\u001b[1;32m     <a href='vscode-notebook-cell:/home/abdennacer/Documents/GitHub/world-happiness-dashboard-analysis/notebook.ipynb#W2sZmlsZQ%3D%3D?line=21'>22</a>\u001b[0m             \u001b[39m'\u001b[39m\u001b[39mGenerosity\u001b[39m\u001b[39m'\u001b[39m: \u001b[39m'\u001b[39m\u001b[39mGénérosité\u001b[39m\u001b[39m'\u001b[39m,\n\u001b[1;32m     <a href='vscode-notebook-cell:/home/abdennacer/Documents/GitHub/world-happiness-dashboard-analysis/notebook.ipynb#W2sZmlsZQ%3D%3D?line=22'>23</a>\u001b[0m         })\n",
      "File \u001b[0;32m~/.local/lib/python3.10/site-packages/pandas/io/parsers/readers.py:948\u001b[0m, in \u001b[0;36mread_csv\u001b[0;34m(filepath_or_buffer, sep, delimiter, header, names, index_col, usecols, dtype, engine, converters, true_values, false_values, skipinitialspace, skiprows, skipfooter, nrows, na_values, keep_default_na, na_filter, verbose, skip_blank_lines, parse_dates, infer_datetime_format, keep_date_col, date_parser, date_format, dayfirst, cache_dates, iterator, chunksize, compression, thousands, decimal, lineterminator, quotechar, quoting, doublequote, escapechar, comment, encoding, encoding_errors, dialect, on_bad_lines, delim_whitespace, low_memory, memory_map, float_precision, storage_options, dtype_backend)\u001b[0m\n\u001b[1;32m    935\u001b[0m kwds_defaults \u001b[39m=\u001b[39m _refine_defaults_read(\n\u001b[1;32m    936\u001b[0m     dialect,\n\u001b[1;32m    937\u001b[0m     delimiter,\n\u001b[0;32m   (...)\u001b[0m\n\u001b[1;32m    944\u001b[0m     dtype_backend\u001b[39m=\u001b[39mdtype_backend,\n\u001b[1;32m    945\u001b[0m )\n\u001b[1;32m    946\u001b[0m kwds\u001b[39m.\u001b[39mupdate(kwds_defaults)\n\u001b[0;32m--> 948\u001b[0m \u001b[39mreturn\u001b[39;00m _read(filepath_or_buffer, kwds)\n",
      "File \u001b[0;32m~/.local/lib/python3.10/site-packages/pandas/io/parsers/readers.py:611\u001b[0m, in \u001b[0;36m_read\u001b[0;34m(filepath_or_buffer, kwds)\u001b[0m\n\u001b[1;32m    608\u001b[0m _validate_names(kwds\u001b[39m.\u001b[39mget(\u001b[39m\"\u001b[39m\u001b[39mnames\u001b[39m\u001b[39m\"\u001b[39m, \u001b[39mNone\u001b[39;00m))\n\u001b[1;32m    610\u001b[0m \u001b[39m# Create the parser.\u001b[39;00m\n\u001b[0;32m--> 611\u001b[0m parser \u001b[39m=\u001b[39m TextFileReader(filepath_or_buffer, \u001b[39m*\u001b[39;49m\u001b[39m*\u001b[39;49mkwds)\n\u001b[1;32m    613\u001b[0m \u001b[39mif\u001b[39;00m chunksize \u001b[39mor\u001b[39;00m iterator:\n\u001b[1;32m    614\u001b[0m     \u001b[39mreturn\u001b[39;00m parser\n",
      "File \u001b[0;32m~/.local/lib/python3.10/site-packages/pandas/io/parsers/readers.py:1448\u001b[0m, in \u001b[0;36mTextFileReader.__init__\u001b[0;34m(self, f, engine, **kwds)\u001b[0m\n\u001b[1;32m   1445\u001b[0m     \u001b[39mself\u001b[39m\u001b[39m.\u001b[39moptions[\u001b[39m\"\u001b[39m\u001b[39mhas_index_names\u001b[39m\u001b[39m\"\u001b[39m] \u001b[39m=\u001b[39m kwds[\u001b[39m\"\u001b[39m\u001b[39mhas_index_names\u001b[39m\u001b[39m\"\u001b[39m]\n\u001b[1;32m   1447\u001b[0m \u001b[39mself\u001b[39m\u001b[39m.\u001b[39mhandles: IOHandles \u001b[39m|\u001b[39m \u001b[39mNone\u001b[39;00m \u001b[39m=\u001b[39m \u001b[39mNone\u001b[39;00m\n\u001b[0;32m-> 1448\u001b[0m \u001b[39mself\u001b[39m\u001b[39m.\u001b[39m_engine \u001b[39m=\u001b[39m \u001b[39mself\u001b[39;49m\u001b[39m.\u001b[39;49m_make_engine(f, \u001b[39mself\u001b[39;49m\u001b[39m.\u001b[39;49mengine)\n",
      "File \u001b[0;32m~/.local/lib/python3.10/site-packages/pandas/io/parsers/readers.py:1705\u001b[0m, in \u001b[0;36mTextFileReader._make_engine\u001b[0;34m(self, f, engine)\u001b[0m\n\u001b[1;32m   1703\u001b[0m     \u001b[39mif\u001b[39;00m \u001b[39m\"\u001b[39m\u001b[39mb\u001b[39m\u001b[39m\"\u001b[39m \u001b[39mnot\u001b[39;00m \u001b[39min\u001b[39;00m mode:\n\u001b[1;32m   1704\u001b[0m         mode \u001b[39m+\u001b[39m\u001b[39m=\u001b[39m \u001b[39m\"\u001b[39m\u001b[39mb\u001b[39m\u001b[39m\"\u001b[39m\n\u001b[0;32m-> 1705\u001b[0m \u001b[39mself\u001b[39m\u001b[39m.\u001b[39mhandles \u001b[39m=\u001b[39m get_handle(\n\u001b[1;32m   1706\u001b[0m     f,\n\u001b[1;32m   1707\u001b[0m     mode,\n\u001b[1;32m   1708\u001b[0m     encoding\u001b[39m=\u001b[39;49m\u001b[39mself\u001b[39;49m\u001b[39m.\u001b[39;49moptions\u001b[39m.\u001b[39;49mget(\u001b[39m\"\u001b[39;49m\u001b[39mencoding\u001b[39;49m\u001b[39m\"\u001b[39;49m, \u001b[39mNone\u001b[39;49;00m),\n\u001b[1;32m   1709\u001b[0m     compression\u001b[39m=\u001b[39;49m\u001b[39mself\u001b[39;49m\u001b[39m.\u001b[39;49moptions\u001b[39m.\u001b[39;49mget(\u001b[39m\"\u001b[39;49m\u001b[39mcompression\u001b[39;49m\u001b[39m\"\u001b[39;49m, \u001b[39mNone\u001b[39;49;00m),\n\u001b[1;32m   1710\u001b[0m     memory_map\u001b[39m=\u001b[39;49m\u001b[39mself\u001b[39;49m\u001b[39m.\u001b[39;49moptions\u001b[39m.\u001b[39;49mget(\u001b[39m\"\u001b[39;49m\u001b[39mmemory_map\u001b[39;49m\u001b[39m\"\u001b[39;49m, \u001b[39mFalse\u001b[39;49;00m),\n\u001b[1;32m   1711\u001b[0m     is_text\u001b[39m=\u001b[39;49mis_text,\n\u001b[1;32m   1712\u001b[0m     errors\u001b[39m=\u001b[39;49m\u001b[39mself\u001b[39;49m\u001b[39m.\u001b[39;49moptions\u001b[39m.\u001b[39;49mget(\u001b[39m\"\u001b[39;49m\u001b[39mencoding_errors\u001b[39;49m\u001b[39m\"\u001b[39;49m, \u001b[39m\"\u001b[39;49m\u001b[39mstrict\u001b[39;49m\u001b[39m\"\u001b[39;49m),\n\u001b[1;32m   1713\u001b[0m     storage_options\u001b[39m=\u001b[39;49m\u001b[39mself\u001b[39;49m\u001b[39m.\u001b[39;49moptions\u001b[39m.\u001b[39;49mget(\u001b[39m\"\u001b[39;49m\u001b[39mstorage_options\u001b[39;49m\u001b[39m\"\u001b[39;49m, \u001b[39mNone\u001b[39;49;00m),\n\u001b[1;32m   1714\u001b[0m )\n\u001b[1;32m   1715\u001b[0m \u001b[39massert\u001b[39;00m \u001b[39mself\u001b[39m\u001b[39m.\u001b[39mhandles \u001b[39mis\u001b[39;00m \u001b[39mnot\u001b[39;00m \u001b[39mNone\u001b[39;00m\n\u001b[1;32m   1716\u001b[0m f \u001b[39m=\u001b[39m \u001b[39mself\u001b[39m\u001b[39m.\u001b[39mhandles\u001b[39m.\u001b[39mhandle\n",
      "File \u001b[0;32m~/.local/lib/python3.10/site-packages/pandas/io/common.py:863\u001b[0m, in \u001b[0;36mget_handle\u001b[0;34m(path_or_buf, mode, encoding, compression, memory_map, is_text, errors, storage_options)\u001b[0m\n\u001b[1;32m    858\u001b[0m \u001b[39melif\u001b[39;00m \u001b[39misinstance\u001b[39m(handle, \u001b[39mstr\u001b[39m):\n\u001b[1;32m    859\u001b[0m     \u001b[39m# Check whether the filename is to be opened in binary mode.\u001b[39;00m\n\u001b[1;32m    860\u001b[0m     \u001b[39m# Binary mode does not support 'encoding' and 'newline'.\u001b[39;00m\n\u001b[1;32m    861\u001b[0m     \u001b[39mif\u001b[39;00m ioargs\u001b[39m.\u001b[39mencoding \u001b[39mand\u001b[39;00m \u001b[39m\"\u001b[39m\u001b[39mb\u001b[39m\u001b[39m\"\u001b[39m \u001b[39mnot\u001b[39;00m \u001b[39min\u001b[39;00m ioargs\u001b[39m.\u001b[39mmode:\n\u001b[1;32m    862\u001b[0m         \u001b[39m# Encoding\u001b[39;00m\n\u001b[0;32m--> 863\u001b[0m         handle \u001b[39m=\u001b[39m \u001b[39mopen\u001b[39;49m(\n\u001b[1;32m    864\u001b[0m             handle,\n\u001b[1;32m    865\u001b[0m             ioargs\u001b[39m.\u001b[39;49mmode,\n\u001b[1;32m    866\u001b[0m             encoding\u001b[39m=\u001b[39;49mioargs\u001b[39m.\u001b[39;49mencoding,\n\u001b[1;32m    867\u001b[0m             errors\u001b[39m=\u001b[39;49merrors,\n\u001b[1;32m    868\u001b[0m             newline\u001b[39m=\u001b[39;49m\u001b[39m\"\u001b[39;49m\u001b[39m\"\u001b[39;49m,\n\u001b[1;32m    869\u001b[0m         )\n\u001b[1;32m    870\u001b[0m     \u001b[39melse\u001b[39;00m:\n\u001b[1;32m    871\u001b[0m         \u001b[39m# Binary mode\u001b[39;00m\n\u001b[1;32m    872\u001b[0m         handle \u001b[39m=\u001b[39m \u001b[39mopen\u001b[39m(handle, ioargs\u001b[39m.\u001b[39mmode)\n",
      "\u001b[0;31mFileNotFoundError\u001b[0m: [Errno 2] No such file or directory: 'data/newData/2015.csv'"
     ]
    }
   ],
   "source": [
    "\n",
    "# Load all data for years 2015-2019\n",
    "available_years = [2015, 2016, 2017, 2018, 2019]\n",
    "data_by_year = {year: load_and_standardize_data(year) for year in available_years}\n"
   ]
  },
  {
   "cell_type": "code",
   "execution_count": null,
   "id": "a5afc89a",
   "metadata": {},
   "outputs": [],
   "source": [
    "\n",
    "# 1. Happiness Scores by Country (Bar Chart)\n",
    "year = 2019\n",
    "data = data_by_year[year]\n",
    "plt.figure(figsize=(12, 6))\n",
    "data.sort_values('Score', ascending=False).plot.bar(x='Pays', y='Score', legend=None)\n",
    "plt.title(f\"Scores de Bonheur par Pays ({year})\")\n",
    "plt.xlabel(\"Pays\")\n",
    "plt.ylabel(\"Score de Bonheur\")\n",
    "plt.xticks(rotation=90)\n",
    "plt.show()\n"
   ]
  },
  {
   "cell_type": "code",
   "execution_count": null,
   "id": "0be4c8fb",
   "metadata": {},
   "outputs": [],
   "source": [
    "\n",
    "# 2. GDP vs Happiness Score (Scatter Plot)\n",
    "plt.figure(figsize=(10, 6))\n",
    "sns.scatterplot(data=data, x='PIB', y='Score', size='Score', hue='Soutien Social', sizes=(40, 400))\n",
    "plt.title(f\"Relation entre PIB et Score de Bonheur ({year})\")\n",
    "plt.xlabel(\"PIB par Habitants\")\n",
    "plt.ylabel(\"Score de Bonheur\")\n",
    "plt.legend(title=\"Soutien Social\")\n",
    "plt.show()\n"
   ]
  },
  {
   "cell_type": "code",
   "execution_count": null,
   "id": "311b8314",
   "metadata": {},
   "outputs": [],
   "source": [
    "\n",
    "# 3. Contribution Factors (Pie Chart)\n",
    "factors = ['PIB', 'Soutien Social', 'Espérance de vie', 'Liberté', 'Générosité', 'Corruption']\n",
    "mean_factors = data[factors].mean()\n",
    "plt.figure(figsize=(8, 8))\n",
    "mean_factors.plot.pie(autopct='%1.1f%%', startangle=90)\n",
    "plt.title(f\"Facteurs Contributifs au Bonheur ({year})\")\n",
    "plt.ylabel(\"\")\n",
    "plt.show()\n"
   ]
  },
  {
   "cell_type": "code",
   "execution_count": null,
   "id": "770972e8",
   "metadata": {},
   "outputs": [],
   "source": [
    "\n",
    "# 4. Distribution of Scores (Histogram)\n",
    "plt.figure(figsize=(10, 6))\n",
    "plt.hist(data['Score'], bins=20, edgecolor='black')\n",
    "plt.title(f\"Distribution des Scores de Bonheur ({year})\")\n",
    "plt.xlabel(\"Score de Bonheur\")\n",
    "plt.ylabel(\"Nombre de Pays\")\n",
    "plt.show()\n"
   ]
  },
  {
   "cell_type": "code",
   "execution_count": null,
   "id": "189f4b31",
   "metadata": {},
   "outputs": [],
   "source": [
    "\n",
    "# 5. Evolution of Scores over Time (Line Chart)\n",
    "all_data = pd.concat(data_by_year.values(), keys=available_years).reset_index(level=0)\n",
    "all_data.rename(columns={\"level_0\": \"Year\"}, inplace=True)\n",
    "plt.figure(figsize=(12, 6))\n",
    "sns.lineplot(data=all_data, x='Year', y='Score', hue='Pays', legend=False)\n",
    "plt.title(\"Évolution des Scores de Bonheur au Fil du Temps\")\n",
    "plt.xlabel(\"Année\")\n",
    "plt.ylabel(\"Score de Bonheur\")\n",
    "plt.show()\n"
   ]
  },
  {
   "cell_type": "code",
   "execution_count": null,
   "id": "6a1d5dfa",
   "metadata": {},
   "outputs": [],
   "source": [
    "\n",
    "# 1. Happiness Scores by Country (Bar Chart)\n",
    "year = 2019\n",
    "data = data_by_year[year]\n",
    "plt.figure(figsize=(12, 6))\n",
    "data.sort_values('Score', ascending=False).plot.bar(x='Pays', y='Score', legend=None)\n",
    "plt.title(f\"Scores de Bonheur par Pays ({year})\")\n",
    "plt.xlabel(\"Pays\")\n",
    "plt.ylabel(\"Score de Bonheur\")\n",
    "plt.xticks(rotation=90)\n",
    "plt.show()\n"
   ]
  },
  {
   "cell_type": "code",
   "execution_count": null,
   "id": "e8942ac4",
   "metadata": {},
   "outputs": [],
   "source": [
    "\n",
    "# 2. GDP vs Happiness Score (Scatter Plot)\n",
    "plt.figure(figsize=(10, 6))\n",
    "sns.scatterplot(data=data, x='PIB', y='Score', size='Score', hue='Soutien Social', sizes=(40, 400))\n",
    "plt.title(f\"Relation entre PIB et Score de Bonheur ({year})\")\n",
    "plt.xlabel(\"PIB par Habitants\")\n",
    "plt.ylabel(\"Score de Bonheur\")\n",
    "plt.legend(title=\"Soutien Social\")\n",
    "plt.show()\n"
   ]
  },
  {
   "cell_type": "code",
   "execution_count": null,
   "id": "3eb0d57d",
   "metadata": {},
   "outputs": [],
   "source": [
    "\n",
    "# 3. Contribution Factors (Pie Chart)\n",
    "factors = ['PIB', 'Soutien Social', 'Espérance de vie', 'Liberté', 'Générosité', 'Corruption']\n",
    "mean_factors = data[factors].mean()\n",
    "plt.figure(figsize=(8, 8))\n",
    "mean_factors.plot.pie(autopct='%1.1f%%', startangle=90)\n",
    "plt.title(f\"Facteurs Contributifs au Bonheur ({year})\")\n",
    "plt.ylabel(\"\")\n",
    "plt.show()\n"
   ]
  },
  {
   "cell_type": "code",
   "execution_count": null,
   "id": "dd0a22c6",
   "metadata": {},
   "outputs": [],
   "source": [
    "\n",
    "# 4. Distribution of Scores (Histogram)\n",
    "plt.figure(figsize=(10, 6))\n",
    "plt.hist(data['Score'], bins=20, edgecolor='black')\n",
    "plt.title(f\"Distribution des Scores de Bonheur ({year})\")\n",
    "plt.xlabel(\"Score de Bonheur\")\n",
    "plt.ylabel(\"Nombre de Pays\")\n",
    "plt.show()\n"
   ]
  },
  {
   "cell_type": "code",
   "execution_count": null,
   "id": "75a972b8",
   "metadata": {},
   "outputs": [],
   "source": [
    "\n",
    "# 5. Evolution of Scores over Time (Line Chart)\n",
    "all_data = pd.concat(data_by_year.values(), keys=available_years).reset_index(level=0)\n",
    "all_data.rename(columns={\"level_0\": \"Year\"}, inplace=True)\n",
    "plt.figure(figsize=(12, 6))\n",
    "sns.lineplot(data=all_data, x='Year', y='Score', hue='Pays', legend=False)\n",
    "plt.title(\"Évolution des Scores de Bonheur au Fil du Temps\")\n",
    "plt.xlabel(\"Année\")\n",
    "plt.ylabel(\"Score de Bonheur\")\n",
    "plt.show()\n"
   ]
  },
  {
   "cell_type": "code",
   "execution_count": null,
   "id": "a6828956",
   "metadata": {},
   "outputs": [],
   "source": [
    "\n",
    "# 6. Freedom vs Happiness Score (Scatter Plot)\n",
    "plt.figure(figsize=(10, 6))\n",
    "sns.scatterplot(data=data, x='Liberté', y='Score', size='Score', hue='Générosité', sizes=(40, 400))\n",
    "plt.title(f\"Relation entre Liberté et Score de Bonheur ({year})\")\n",
    "plt.xlabel(\"Liberté de Choix\")\n",
    "plt.ylabel(\"Score de Bonheur\")\n",
    "plt.legend(title=\"Générosité\")\n",
    "plt.show()\n"
   ]
  },
  {
   "cell_type": "code",
   "execution_count": null,
   "id": "737d5377",
   "metadata": {},
   "outputs": [],
   "source": [
    "\n",
    "# 7. Happiness Score Distribution by Region (Box Plot)\n",
    "if 'Region' in data.columns:\n",
    "    plt.figure(figsize=(12, 6))\n",
    "    sns.boxplot(data=data, x='Region', y='Score', palette='coolwarm')\n",
    "    plt.title(f\"Distribution des Scores de Bonheur par Région ({year})\")\n",
    "    plt.xlabel(\"Région\")\n",
    "    plt.ylabel(\"Score de Bonheur\")\n",
    "    plt.xticks(rotation=90)\n",
    "    plt.show()\n"
   ]
  },
  {
   "cell_type": "code",
   "execution_count": null,
   "id": "82373fbe",
   "metadata": {},
   "outputs": [],
   "source": [
    "\n",
    "# 8. Top 10 Happiest Countries (Bar Chart)\n",
    "top_10_happiest = data.nlargest(10, 'Score')\n",
    "plt.figure(figsize=(12, 6))\n",
    "sns.barplot(data=top_10_happiest, x='Score', y='Pays', palette='viridis')\n",
    "plt.title(f\"Top 10 des Pays les Plus Heureux ({year})\")\n",
    "plt.xlabel(\"Score de Bonheur\")\n",
    "plt.ylabel(\"Pays\")\n",
    "plt.show()\n"
   ]
  },
  {
   "cell_type": "code",
   "execution_count": null,
   "id": "e0ae079b",
   "metadata": {},
   "outputs": [],
   "source": [
    "\n",
    "# 9. Correlation Heatmap of Happiness Factors\n",
    "correlation_matrix = data[factors + ['Score']].corr()\n",
    "plt.figure(figsize=(10, 8))\n",
    "sns.heatmap(correlation_matrix, annot=True, cmap='coolwarm', fmt=\".2f\")\n",
    "plt.title(\"Carte de Corrélation des Facteurs\")\n",
    "plt.show()\n"
   ]
  }
 ],
 "metadata": {
  "kernelspec": {
   "display_name": "Python 3",
   "language": "python",
   "name": "python3"
  },
  "language_info": {
   "codemirror_mode": {
    "name": "ipython",
    "version": 3
   },
   "file_extension": ".py",
   "mimetype": "text/x-python",
   "name": "python",
   "nbconvert_exporter": "python",
   "pygments_lexer": "ipython3",
   "version": "3.10.12"
  }
 },
 "nbformat": 4,
 "nbformat_minor": 5
}
